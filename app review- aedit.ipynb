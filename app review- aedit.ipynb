{
 "cells": [
  {
   "cell_type": "code",
   "execution_count": 1,
   "metadata": {},
   "outputs": [],
   "source": [
    "import matplotlib.pyplot as plt\n",
    "import seaborn as sns\n",
    "%matplotlib inline"
   ]
  },
  {
   "cell_type": "code",
   "execution_count": 2,
   "metadata": {},
   "outputs": [],
   "source": [
    "from google_play_scraper import app\n",
    "import pandas as pd\n",
    "import numpy as np"
   ]
  },
  {
   "cell_type": "code",
   "execution_count": 3,
   "metadata": {},
   "outputs": [],
   "source": [
    "from app_store_scraper import AppStore\n",
    "import json"
   ]
  },
  {
   "cell_type": "code",
   "execution_count": 4,
   "metadata": {},
   "outputs": [],
   "source": [
    "def ios_reviews(app_name):\n",
    "    app = AppStore(country='us', app_name=app_name)\n",
    "    app.review()\n",
    "    return app"
   ]
  },
  {
   "cell_type": "code",
   "execution_count": 5,
   "metadata": {},
   "outputs": [
    {
     "name": "stderr",
     "output_type": "stream",
     "text": [
      "2021-12-10 11:11:07,909 [INFO] Base - Searching for app id\n",
      "2021-12-10 11:11:16,600 [INFO] Base - Initialised: AppStore('us', 'aedit', 1322246202)\n",
      "2021-12-10 11:11:16,601 [INFO] Base - Ready to fetch reviews from: https://apps.apple.com/us/app/aedit/id1322246202\n",
      "2021-12-10 11:11:20,144 [INFO] Base - [id:1322246202] Fetched 142 reviews (142 fetched in total)\n"
     ]
    },
    {
     "data": {
      "text/html": [
       "<div>\n",
       "<style scoped>\n",
       "    .dataframe tbody tr th:only-of-type {\n",
       "        vertical-align: middle;\n",
       "    }\n",
       "\n",
       "    .dataframe tbody tr th {\n",
       "        vertical-align: top;\n",
       "    }\n",
       "\n",
       "    .dataframe thead th {\n",
       "        text-align: right;\n",
       "    }\n",
       "</style>\n",
       "<table border=\"1\" class=\"dataframe\">\n",
       "  <thead>\n",
       "    <tr style=\"text-align: right;\">\n",
       "      <th></th>\n",
       "      <th>review</th>\n",
       "      <th>isEdited</th>\n",
       "      <th>title</th>\n",
       "      <th>developerResponse</th>\n",
       "      <th>rating</th>\n",
       "      <th>date</th>\n",
       "      <th>userName</th>\n",
       "    </tr>\n",
       "  </thead>\n",
       "  <tbody>\n",
       "    <tr>\n",
       "      <th>0</th>\n",
       "      <td>I was surprised by this app. I downloaded it f...</td>\n",
       "      <td>False</td>\n",
       "      <td>This is actually an amazing app—please fix it.</td>\n",
       "      <td>{'id': 22950142, 'body': 'Thank you for your f...</td>\n",
       "      <td>5</td>\n",
       "      <td>2021-05-20 08:41:19</td>\n",
       "      <td>Zoie Knoch</td>\n",
       "    </tr>\n",
       "    <tr>\n",
       "      <th>1</th>\n",
       "      <td>Seeing is believing. Having a visual of potent...</td>\n",
       "      <td>False</td>\n",
       "      <td>Super Fun!</td>\n",
       "      <td>{'id': 26369580, 'body': 'We couldn't agree mo...</td>\n",
       "      <td>5</td>\n",
       "      <td>2021-11-12 05:29:04</td>\n",
       "      <td>TJ$tein</td>\n",
       "    </tr>\n",
       "    <tr>\n",
       "      <th>2</th>\n",
       "      <td>AEDIT really helps walk you through the proces...</td>\n",
       "      <td>False</td>\n",
       "      <td>impressive</td>\n",
       "      <td>{'id': 26369550, 'body': 'Thank you Lonny for ...</td>\n",
       "      <td>5</td>\n",
       "      <td>2021-11-09 14:46:19</td>\n",
       "      <td>Lonny Barton</td>\n",
       "    </tr>\n",
       "    <tr>\n",
       "      <th>3</th>\n",
       "      <td>Wasn’t expecting much when I downloaded this a...</td>\n",
       "      <td>False</td>\n",
       "      <td>it’s like seeing yourself how everyone else se...</td>\n",
       "      <td>NaN</td>\n",
       "      <td>5</td>\n",
       "      <td>2020-07-09 00:02:22</td>\n",
       "      <td>07/07/2020</td>\n",
       "    </tr>\n",
       "    <tr>\n",
       "      <th>4</th>\n",
       "      <td>You have to pay to use most of the of the feat...</td>\n",
       "      <td>False</td>\n",
       "      <td>Must pay to use and choppy</td>\n",
       "      <td>{'id': 26021251, 'body': 'Hi Hellahollywood. W...</td>\n",
       "      <td>1</td>\n",
       "      <td>2021-10-26 11:13:08</td>\n",
       "      <td>hellahollywood</td>\n",
       "    </tr>\n",
       "  </tbody>\n",
       "</table>\n",
       "</div>"
      ],
      "text/plain": [
       "                                              review  isEdited  \\\n",
       "0  I was surprised by this app. I downloaded it f...     False   \n",
       "1  Seeing is believing. Having a visual of potent...     False   \n",
       "2  AEDIT really helps walk you through the proces...     False   \n",
       "3  Wasn’t expecting much when I downloaded this a...     False   \n",
       "4  You have to pay to use most of the of the feat...     False   \n",
       "\n",
       "                                               title  \\\n",
       "0     This is actually an amazing app—please fix it.   \n",
       "1                                         Super Fun!   \n",
       "2                                         impressive   \n",
       "3  it’s like seeing yourself how everyone else se...   \n",
       "4                         Must pay to use and choppy   \n",
       "\n",
       "                                   developerResponse  rating  \\\n",
       "0  {'id': 22950142, 'body': 'Thank you for your f...       5   \n",
       "1  {'id': 26369580, 'body': 'We couldn't agree mo...       5   \n",
       "2  {'id': 26369550, 'body': 'Thank you Lonny for ...       5   \n",
       "3                                                NaN       5   \n",
       "4  {'id': 26021251, 'body': 'Hi Hellahollywood. W...       1   \n",
       "\n",
       "                 date        userName  \n",
       "0 2021-05-20 08:41:19      Zoie Knoch  \n",
       "1 2021-11-12 05:29:04         TJ$tein  \n",
       "2 2021-11-09 14:46:19    Lonny Barton  \n",
       "3 2020-07-09 00:02:22      07/07/2020  \n",
       "4 2021-10-26 11:13:08  hellahollywood  "
      ]
     },
     "execution_count": 5,
     "metadata": {},
     "output_type": "execute_result"
    }
   ],
   "source": [
    "df_aedit = pd.DataFrame(np.array(ios_reviews('Aedit').reviews),columns=['review'])\n",
    "df_aedit = df_aedit.join(pd.DataFrame(df_aedit.pop('review').tolist()))\n",
    "df_aedit.head()"
   ]
  },
  {
   "cell_type": "code",
   "execution_count": 6,
   "metadata": {},
   "outputs": [
    {
     "data": {
      "text/plain": [
       "(142, 7)"
      ]
     },
     "execution_count": 6,
     "metadata": {},
     "output_type": "execute_result"
    }
   ],
   "source": [
    "df_aedit.shape"
   ]
  },
  {
   "cell_type": "code",
   "execution_count": 8,
   "metadata": {},
   "outputs": [
    {
     "name": "stderr",
     "output_type": "stream",
     "text": [
      "2021-12-10 11:12:03,111 [INFO] numexpr.utils - NumExpr defaulting to 4 threads.\n"
     ]
    }
   ],
   "source": [
    "df = df_aedit[df_aedit['rating']<3]"
   ]
  },
  {
   "cell_type": "code",
   "execution_count": 9,
   "metadata": {},
   "outputs": [],
   "source": [
    "from nltk.stem import WordNetLemmatizer\n",
    "\n",
    "lemmatizer = WordNetLemmatizer()"
   ]
  },
  {
   "cell_type": "code",
   "execution_count": 10,
   "metadata": {},
   "outputs": [],
   "source": [
    "import nltk\n",
    "stemmer = nltk.PorterStemmer()"
   ]
  },
  {
   "cell_type": "code",
   "execution_count": 11,
   "metadata": {},
   "outputs": [],
   "source": [
    "from nltk.corpus import stopwords\n",
    "from collections import Counter\n",
    "import re\n",
    "\n",
    "stop_words = set(stopwords.words('English'))"
   ]
  },
  {
   "cell_type": "code",
   "execution_count": 12,
   "metadata": {},
   "outputs": [],
   "source": [
    "from sklearn.base import BaseEstimator, TransformerMixin\n",
    "\n",
    "class TextProcessor(BaseEstimator, TransformerMixin):\n",
    "    def __init__(self, lower_case=True, remove_punctuation=True, remove_numbers=True, lemmatizing=True, remove_stopwords=True, stemming=True):\n",
    "        self.lower_case = lower_case\n",
    "        self.remove_punctuation = remove_punctuation\n",
    "        self.remove_numbers = remove_numbers\n",
    "        self.lemmatizing = lemmatizing\n",
    "        self.remove_stopwords = remove_stopwords\n",
    "        self.stemming = stemming\n",
    "        \n",
    "    def fit(self,X ,y=None):\n",
    "        return self\n",
    "    \n",
    "    def transform(self, X, y=None):\n",
    "        X_processed = []\n",
    "        for text in X:\n",
    "            if self.lower_case:\n",
    "                text = text.lower()\n",
    "            if self.remove_numbers:\n",
    "                text = re.sub(r'\\d+(?:\\.\\d*)?(?:[eE][+-]?\\d+)?', ' ', text)\n",
    "            if self.remove_punctuation:\n",
    "                text = re.sub(r'\\W+', ' ', text, flags=re.M)\n",
    "            if self.remove_stopwords:\n",
    "                text = [word for word in text.split() if not word in stop_words]\n",
    "            \"\"\"if self.lemmatizing:\n",
    "                lem_words = []\n",
    "                for word in text:\n",
    "                    word_lemma = lemmatizer.lemmatize(word)\n",
    "                    lem_words.append(word_lemma)\n",
    "                text = lem_words\n",
    "                \"\"\"\n",
    "            if self.stemming:\n",
    "                stemmed_words=[]\n",
    "                for word in text:\n",
    "                    word_stem = stemmer.stem(word)\n",
    "                    stemmed_words.append(word_stem)\n",
    "                text = stemmed_words\n",
    "            bigram_words = []\n",
    "            for i in range(len(text)-1):\n",
    "                bigram_words.append(text[i]+\" \"+text[i+1])\n",
    "            word_counts = Counter(bigram_words)\n",
    "            #word_counts = Counter(text)\n",
    "            \"\"\"if self.lemmatizing:\n",
    "                #lem_counter = Counter()\n",
    "                lem=[]\n",
    "                for word in text:\n",
    "                    word_lemma = lemmatizer.lemmatize(word)\n",
    "                    lem.append(word_lemma)\"\"\"\n",
    "            \n",
    "            X_processed.append(word_counts)\n",
    "        return np.array(X_processed)"
   ]
  },
  {
   "cell_type": "code",
   "execution_count": 13,
   "metadata": {
    "scrolled": true
   },
   "outputs": [
    {
     "data": {
      "text/plain": [
       "array([Counter({'pay use': 1, 'use featur': 1, 'featur model': 1, 'model wrap': 1, 'wrap face': 1, 'face around': 1, 'around form': 1, 'form chang': 1, 'chang topographi': 1, 'topographi featur': 1, 'featur similar': 1, 'similar built': 1, 'built charact': 1, 'charact video': 1, 'video game': 1, 'game scan': 1, 'scan face': 1, 'face time': 1, 'time get': 1, 'get someth': 1, 'someth even': 1, 'even remot': 1, 'remot close': 1, 'close accur': 1, 'accur depict': 1, 'depict would': 1, 'would sound': 1, 'sound like': 1, 'like great': 1, 'great idea': 1, 'idea practic': 1, 'practic turn': 1, 'turn promis': 1, 'promis mayb': 1, 'mayb develop': 1, 'develop could': 1, 'could great': 1, 'great tool': 1, 'tool futur': 1}),\n",
       "       Counter({'iphon scan': 1, 'scan qualiti': 1, 'qualiti ok': 1, 'ok tri': 1, 'tri multipl': 1, 'multipl time': 1, 'time good': 1, 'good qualiti': 1, 'qualiti enough': 1, 'enough featur': 1, 'featur even': 1, 'even paid': 1, 'paid version': 1, 'version worth': 1, 'worth price': 1, 'price paid': 1, 'paid month': 1, 'month subscript': 1, 'subscript wish': 1, 'wish could': 1, 'could get': 1, 'get money': 1, 'money back': 1}),\n",
       "       Counter({'noth like': 1, 'like download': 1, 'download app': 1, 'app fulli': 1, 'fulli realiz': 1, 'realiz app': 1, 'app purchas': 1, 'purchas blindsid': 1, 'blindsid collect': 1, 'collect data': 1, 'data anyth': 1, 'anyth meaning': 1, 'meaning unless': 1, 'unless purchas': 1, 'purchas think': 1, 'think vendor': 1, 'vendor app': 1, 'app virtual': 1, 'virtual would': 1, 'would smart': 1, 'smart enough': 1, 'enough monet': 1, 'monet doctor': 1, 'doctor referr': 1, 'referr oh': 1, 'oh wait': 1, 'wait cosmet': 1, 'cosmet industri': 1, 'industri monet': 1, 'monet everyon': 1}),\n",
       "       Counter({'cool idea': 1, 'idea design': 1, 'design unfortun': 1, 'unfortun even': 1, 'even use': 1, 'use scan': 1, 'scan face': 1, 'face tri': 1, 'tri scan': 1, 'scan like': 1, 'like differ': 1, 'differ time': 1, 'time keep': 1, 'keep come': 1, 'come error': 1}),\n",
       "       Counter({'liter tri': 1, 'tri thing': 1, 'thing free': 1, 'free everyth': 1, 'everyth els': 1, 'els pay': 1, 'pay ridicul': 1, 'ridicul amount': 1, 'amount money': 1, 'money bother': 1}),\n",
       "       Counter({'realli cool': 1, 'cool concept': 1, 'concept without': 1, 'without even': 1, 'even offer': 1, 'offer trial': 1, 'trial demo': 1, 'demo surgeri': 1, 'surgeri actual': 1, 'actual matter': 1, 'matter peopl': 1, 'peopl kind': 1, 'kind mislead': 1, 'mislead sign': 1, 'sign noth': 1, 'noth pay': 1, 'pay someth': 1, 'someth tell': 1, 'tell good': 1}),\n",
       "       Counter({'abl scan': 1, 'scan face': 1, 'face take': 1, 'take pictur': 1, 'pictur use': 1, 'use app': 1, 'app thu': 1, 'thu facial': 1, 'facial restructur': 1, 'restructur portion': 1, 'portion app': 1, 'app show': 1, 'show cosmet': 1, 'cosmet procedur': 1, 'procedur result': 1, 'result never': 1, 'never work': 1, 'work throw': 1, 'throw error': 1, 'error messag': 1, 'messag everi': 1, 'everi time': 1}),\n",
       "       Counter({'use tri': 1, 'tri featur': 1, 'featur app': 1, 'app kept': 1, 'kept freez': 1, 'freez keep': 1, 'keep open': 1, 'open sever': 1, 'sever time': 1, 'time end': 1, 'end delet': 1}),\n",
       "       Counter({'download app': 1, 'app twice': 1, 'twice think': 1, 'think error': 1, 'error option': 1, 'option tri': 1, 'tri anyth': 1, 'anyth blog': 1, 'blog glossari': 1, 'glossari procedur': 1, 'procedur contact': 1, 'contact list': 1, 'list prefer': 1, 'prefer auregeon': 1, 'auregeon that': 1, 'that wast': 1, 'wast time': 1}),\n",
       "       Counter({'realli excit': 1, 'excit totri': 1, 'totri app': 1, 'app see': 1, 'see facial': 1, 'facial scan': 1, 'scan featur': 1, 'featur seem': 1, 'seem work': 1, 'work everi': 1, 'everi time': 1, 'time tri': 1, 'tri get': 1, 'get error': 1, 'error messag': 1}),\n",
       "       Counter({'pointless keep': 1, 'keep say': 1, 'say move': 1, 'move back': 1, 'back get': 1, 'get closer': 1, 'closer etc': 1, 'etc take': 1, 'take pic': 1, 'pic face': 1, 'face wast': 1, 'wast time': 1, 'time delet': 1}),\n",
       "       Counter({'constantli crash': 1, 'crash tri': 1, 'tri scan': 1, 'scan face': 1, 'face even': 1, 'even use': 1, 'use app': 1}),\n",
       "       Counter({'excit tri': 1, 'tri realli': 1, 'realli disappoint': 1, 'disappoint edit': 1, 'edit without': 1, 'without pro': 1, 'pro subscript': 1, 'subscript bummer': 1, 'bummer would': 1, 'would total': 1, 'total use': 1}),\n",
       "       Counter({'bought month': 1, 'month morph': 1, 'morph nose': 1, 'nose worth': 1, 'worth money': 1, 'money accur': 1, 'accur anyth': 1, 'anyth differ': 1, 'differ free': 1, 'free app': 1}),\n",
       "       Counter({'tri scan': 1, 'scan sever': 1, 'sever differ': 1, 'differ set': 1, 'set app': 1, 'app refus': 1, 'refus scan': 1, 'scan face': 1}),\n",
       "       Counter({'pay membership': 1, 'membership use': 1, 'use featur': 1, 'featur book': 1, 'book appoint': 1, 'appoint surgeon': 1}),\n",
       "       Counter({'anyth tri': 1, 'tri anyth': 1, 'anyth besid': 1, 'besid like': 1, 'like brow': 1, 'brow lift': 1, 'lift unless': 1, 'unless pay': 1, 'pay app': 1}),\n",
       "       Counter({'app crash': 1, 'crash soon': 1, 'soon scan': 1, 'scan face': 1, 'face wast': 1, 'wast time': 1}),\n",
       "       Counter({'free version': 1, 'version liter': 1, 'liter noth': 1, 'noth scan': 1, 'scan pretti': 1, 'pretti bad': 1}),\n",
       "       Counter({'app worst': 1, 'worst get': 1, 'get info': 1, 'info total': 1, 'total unus': 1, 'unus keep': 1, 'keep crash': 1}),\n",
       "       Counter({'pay use': 1}),\n",
       "       Counter({'even scan': 1, 'scan face': 1, 'face properli': 1}),\n",
       "       Counter({'fill entir': 1, 'entir sheet': 1, 'sheet thing': 1, 'thing want': 1, 'want alter': 1, 'alter edit': 1, 'edit nose': 1, 'nose poorli': 1, 'poorli lip': 1, 'lip eyebrow': 1}),\n",
       "       Counter({'show u': 1, 'u lip': 1, 'lip lift': 1, 'lift app': 1, 'app store': 1, 'store yet': 1, 'yet unabl': 1, 'unabl download': 1, 'download app': 1}),\n",
       "       Counter({'anyth bc': 1, 'bc crash': 1}),\n",
       "       Counter({'app crash': 1, 'crash use': 1}),\n",
       "       Counter({'wast time': 1, 'time download': 1, 'download worst': 1, 'worst edit': 1, 'edit app': 1, 'app ever': 1, 'ever garbag': 1}),\n",
       "       Counter({'download app': 1})], dtype=object)"
      ]
     },
     "execution_count": 13,
     "metadata": {},
     "output_type": "execute_result"
    }
   ],
   "source": [
    "text_processor = TextProcessor()\n",
    "data = text_processor.fit_transform(df['review'])\n",
    "data"
   ]
  },
  {
   "cell_type": "code",
   "execution_count": 16,
   "metadata": {},
   "outputs": [],
   "source": [
    "from sklearn.feature_extraction.text import TfidfVectorizer\n",
    "from sklearn.cluster import KMeans"
   ]
  },
  {
   "cell_type": "code",
   "execution_count": 62,
   "metadata": {},
   "outputs": [],
   "source": [
    "vectorizer = TfidfVectorizer(stop_words='english')\n",
    "X = vectorizer.fit_transform(df['title'])"
   ]
  },
  {
   "cell_type": "code",
   "execution_count": 63,
   "metadata": {},
   "outputs": [
    {
     "data": {
      "text/plain": [
       "KMeans(max_iter=100, n_clusters=3, n_init=1)"
      ]
     },
     "execution_count": 63,
     "metadata": {},
     "output_type": "execute_result"
    }
   ],
   "source": [
    "true_k = 3\n",
    "model = KMeans(n_clusters=true_k, init='k-means++', max_iter=100, n_init=1)\n",
    "model.fit(X)"
   ]
  },
  {
   "cell_type": "code",
   "execution_count": 64,
   "metadata": {},
   "outputs": [],
   "source": [
    "order_centroids = model.cluster_centers_.argsort()[:, ::-1]\n",
    "terms = vectorizer.get_feature_names()"
   ]
  },
  {
   "cell_type": "code",
   "execution_count": 65,
   "metadata": {
    "scrolled": true
   },
   "outputs": [
    {
     "name": "stdout",
     "output_type": "stream",
     "text": [
      "Cluster 0:\n",
      " work\n",
      " free\n",
      " awful\n",
      " great\n",
      " won\n",
      " face\n",
      " scan\n",
      " doesn\n",
      " app\n",
      " worst\n",
      " clickbait\n",
      " download\n",
      " hacked\n",
      " needs\n",
      " quality\n",
      " lip\n",
      " lift\n",
      " time\n",
      " waste\n",
      " right\n",
      "Cluster 1:\n",
      " crashes\n",
      " constant\n",
      " work\n",
      " download\n",
      " idea\n",
      " hacked\n",
      " great\n",
      " freezing\n",
      " free\n",
      " facial\n",
      " face\n",
      " earn\n",
      " worst\n",
      " dont\n",
      " kept\n",
      " doesn\n",
      " does\n",
      " cost\n",
      " clickbait\n",
      " choppy\n",
      "Cluster 2:\n",
      " terrible\n",
      " actually\n",
      " money\n",
      " cost\n",
      " dont\n",
      " great\n",
      " freezing\n",
      " free\n",
      " facial\n",
      " face\n",
      " earn\n",
      " download\n",
      " doesn\n",
      " doesnt\n",
      " idea\n",
      " does\n",
      " crashes\n",
      " constant\n",
      " clickbait\n",
      " choppy\n"
     ]
    }
   ],
   "source": [
    "for i in range(true_k):\n",
    "    print('Cluster %d:' % i),\n",
    "    for ind in order_centroids[i, :20]:\n",
    "         print(' %s' % terms[ind])"
   ]
  },
  {
   "cell_type": "code",
   "execution_count": 66,
   "metadata": {},
   "outputs": [],
   "source": [
    "issues = [ 'App scanner issues',\n",
    "          'App freezing and crashing',\n",
    "          'Paid features'\n",
    "         ]"
   ]
  },
  {
   "cell_type": "code",
   "execution_count": 67,
   "metadata": {},
   "outputs": [
    {
     "name": "stderr",
     "output_type": "stream",
     "text": [
      "<ipython-input-67-0fae5155c3c3>:1: SettingWithCopyWarning: \n",
      "A value is trying to be set on a copy of a slice from a DataFrame.\n",
      "Try using .loc[row_indexer,col_indexer] = value instead\n",
      "\n",
      "See the caveats in the documentation: https://pandas.pydata.org/pandas-docs/stable/user_guide/indexing.html#returning-a-view-versus-a-copy\n",
      "  df['Issues'] = model.predict(X)\n"
     ]
    }
   ],
   "source": [
    "df['Issues'] = model.predict(X)"
   ]
  },
  {
   "cell_type": "code",
   "execution_count": 68,
   "metadata": {},
   "outputs": [
    {
     "data": {
      "text/plain": [
       "0    22\n",
       "1     4\n",
       "2     2\n",
       "Name: Issues, dtype: int64"
      ]
     },
     "execution_count": 68,
     "metadata": {},
     "output_type": "execute_result"
    }
   ],
   "source": [
    "df['Issues'].value_counts()"
   ]
  },
  {
   "cell_type": "code",
   "execution_count": 21,
   "metadata": {},
   "outputs": [],
   "source": [
    "vocabulary_size=1000\n",
    "total_count = Counter()\n",
    "for word_count in data:\n",
    "    for word, count in word_count.items():\n",
    "        total_count[word] += count#min(count, 10)\n",
    "most_common = total_count.most_common()[:vocabulary_size]\n",
    "vocabulary = {word: count for index, (word, count) in enumerate(most_common)}"
   ]
  },
  {
   "cell_type": "code",
   "execution_count": 22,
   "metadata": {},
   "outputs": [
    {
     "data": {
      "text/plain": [
       "{'scan face': 7,\n",
       " 'download app': 4,\n",
       " 'wast time': 4,\n",
       " 'tri scan': 3,\n",
       " 'pay use': 2,\n",
       " 'use featur': 2,\n",
       " 'even use': 2,\n",
       " 'use app': 2,\n",
       " 'error messag': 2,\n",
       " 'everi time': 2,\n",
       " 'tri anyth': 2,\n",
       " 'face wast': 2,\n",
       " 'app crash': 2,\n",
       " 'featur model': 1,\n",
       " 'model wrap': 1,\n",
       " 'wrap face': 1,\n",
       " 'face around': 1,\n",
       " 'around form': 1,\n",
       " 'form chang': 1,\n",
       " 'chang topographi': 1,\n",
       " 'topographi featur': 1,\n",
       " 'featur similar': 1,\n",
       " 'similar built': 1,\n",
       " 'built charact': 1,\n",
       " 'charact video': 1,\n",
       " 'video game': 1,\n",
       " 'game scan': 1,\n",
       " 'face time': 1,\n",
       " 'time get': 1,\n",
       " 'get someth': 1,\n",
       " 'someth even': 1,\n",
       " 'even remot': 1,\n",
       " 'remot close': 1,\n",
       " 'close accur': 1,\n",
       " 'accur depict': 1,\n",
       " 'depict would': 1,\n",
       " 'would sound': 1,\n",
       " 'sound like': 1,\n",
       " 'like great': 1,\n",
       " 'great idea': 1,\n",
       " 'idea practic': 1,\n",
       " 'practic turn': 1,\n",
       " 'turn promis': 1,\n",
       " 'promis mayb': 1,\n",
       " 'mayb develop': 1,\n",
       " 'develop could': 1,\n",
       " 'could great': 1,\n",
       " 'great tool': 1,\n",
       " 'tool futur': 1,\n",
       " 'iphon scan': 1,\n",
       " 'scan qualiti': 1,\n",
       " 'qualiti ok': 1,\n",
       " 'ok tri': 1,\n",
       " 'tri multipl': 1,\n",
       " 'multipl time': 1,\n",
       " 'time good': 1,\n",
       " 'good qualiti': 1,\n",
       " 'qualiti enough': 1,\n",
       " 'enough featur': 1,\n",
       " 'featur even': 1,\n",
       " 'even paid': 1,\n",
       " 'paid version': 1,\n",
       " 'version worth': 1,\n",
       " 'worth price': 1,\n",
       " 'price paid': 1,\n",
       " 'paid month': 1,\n",
       " 'month subscript': 1,\n",
       " 'subscript wish': 1,\n",
       " 'wish could': 1,\n",
       " 'could get': 1,\n",
       " 'get money': 1,\n",
       " 'money back': 1,\n",
       " 'noth like': 1,\n",
       " 'like download': 1,\n",
       " 'app fulli': 1,\n",
       " 'fulli realiz': 1,\n",
       " 'realiz app': 1,\n",
       " 'app purchas': 1,\n",
       " 'purchas blindsid': 1,\n",
       " 'blindsid collect': 1,\n",
       " 'collect data': 1,\n",
       " 'data anyth': 1,\n",
       " 'anyth meaning': 1,\n",
       " 'meaning unless': 1,\n",
       " 'unless purchas': 1,\n",
       " 'purchas think': 1,\n",
       " 'think vendor': 1,\n",
       " 'vendor app': 1,\n",
       " 'app virtual': 1,\n",
       " 'virtual would': 1,\n",
       " 'would smart': 1,\n",
       " 'smart enough': 1,\n",
       " 'enough monet': 1,\n",
       " 'monet doctor': 1,\n",
       " 'doctor referr': 1,\n",
       " 'referr oh': 1,\n",
       " 'oh wait': 1,\n",
       " 'wait cosmet': 1,\n",
       " 'cosmet industri': 1,\n",
       " 'industri monet': 1,\n",
       " 'monet everyon': 1,\n",
       " 'cool idea': 1,\n",
       " 'idea design': 1,\n",
       " 'design unfortun': 1,\n",
       " 'unfortun even': 1,\n",
       " 'use scan': 1,\n",
       " 'face tri': 1,\n",
       " 'scan like': 1,\n",
       " 'like differ': 1,\n",
       " 'differ time': 1,\n",
       " 'time keep': 1,\n",
       " 'keep come': 1,\n",
       " 'come error': 1,\n",
       " 'liter tri': 1,\n",
       " 'tri thing': 1,\n",
       " 'thing free': 1,\n",
       " 'free everyth': 1,\n",
       " 'everyth els': 1,\n",
       " 'els pay': 1,\n",
       " 'pay ridicul': 1,\n",
       " 'ridicul amount': 1,\n",
       " 'amount money': 1,\n",
       " 'money bother': 1,\n",
       " 'realli cool': 1,\n",
       " 'cool concept': 1,\n",
       " 'concept without': 1,\n",
       " 'without even': 1,\n",
       " 'even offer': 1,\n",
       " 'offer trial': 1,\n",
       " 'trial demo': 1,\n",
       " 'demo surgeri': 1,\n",
       " 'surgeri actual': 1,\n",
       " 'actual matter': 1,\n",
       " 'matter peopl': 1,\n",
       " 'peopl kind': 1,\n",
       " 'kind mislead': 1,\n",
       " 'mislead sign': 1,\n",
       " 'sign noth': 1,\n",
       " 'noth pay': 1,\n",
       " 'pay someth': 1,\n",
       " 'someth tell': 1,\n",
       " 'tell good': 1,\n",
       " 'abl scan': 1,\n",
       " 'face take': 1,\n",
       " 'take pictur': 1,\n",
       " 'pictur use': 1,\n",
       " 'app thu': 1,\n",
       " 'thu facial': 1,\n",
       " 'facial restructur': 1,\n",
       " 'restructur portion': 1,\n",
       " 'portion app': 1,\n",
       " 'app show': 1,\n",
       " 'show cosmet': 1,\n",
       " 'cosmet procedur': 1,\n",
       " 'procedur result': 1,\n",
       " 'result never': 1,\n",
       " 'never work': 1,\n",
       " 'work throw': 1,\n",
       " 'throw error': 1,\n",
       " 'messag everi': 1,\n",
       " 'use tri': 1,\n",
       " 'tri featur': 1,\n",
       " 'featur app': 1,\n",
       " 'app kept': 1,\n",
       " 'kept freez': 1,\n",
       " 'freez keep': 1,\n",
       " 'keep open': 1,\n",
       " 'open sever': 1,\n",
       " 'sever time': 1,\n",
       " 'time end': 1,\n",
       " 'end delet': 1,\n",
       " 'app twice': 1,\n",
       " 'twice think': 1,\n",
       " 'think error': 1,\n",
       " 'error option': 1,\n",
       " 'option tri': 1,\n",
       " 'anyth blog': 1,\n",
       " 'blog glossari': 1,\n",
       " 'glossari procedur': 1,\n",
       " 'procedur contact': 1,\n",
       " 'contact list': 1,\n",
       " 'list prefer': 1,\n",
       " 'prefer auregeon': 1,\n",
       " 'auregeon that': 1,\n",
       " 'that wast': 1,\n",
       " 'realli excit': 1,\n",
       " 'excit totri': 1,\n",
       " 'totri app': 1,\n",
       " 'app see': 1,\n",
       " 'see facial': 1,\n",
       " 'facial scan': 1,\n",
       " 'scan featur': 1,\n",
       " 'featur seem': 1,\n",
       " 'seem work': 1,\n",
       " 'work everi': 1,\n",
       " 'time tri': 1,\n",
       " 'tri get': 1,\n",
       " 'get error': 1,\n",
       " 'pointless keep': 1,\n",
       " 'keep say': 1,\n",
       " 'say move': 1,\n",
       " 'move back': 1,\n",
       " 'back get': 1,\n",
       " 'get closer': 1,\n",
       " 'closer etc': 1,\n",
       " 'etc take': 1,\n",
       " 'take pic': 1,\n",
       " 'pic face': 1,\n",
       " 'time delet': 1,\n",
       " 'constantli crash': 1,\n",
       " 'crash tri': 1,\n",
       " 'face even': 1,\n",
       " 'excit tri': 1,\n",
       " 'tri realli': 1,\n",
       " 'realli disappoint': 1,\n",
       " 'disappoint edit': 1,\n",
       " 'edit without': 1,\n",
       " 'without pro': 1,\n",
       " 'pro subscript': 1,\n",
       " 'subscript bummer': 1,\n",
       " 'bummer would': 1,\n",
       " 'would total': 1,\n",
       " 'total use': 1,\n",
       " 'bought month': 1,\n",
       " 'month morph': 1,\n",
       " 'morph nose': 1,\n",
       " 'nose worth': 1,\n",
       " 'worth money': 1,\n",
       " 'money accur': 1,\n",
       " 'accur anyth': 1,\n",
       " 'anyth differ': 1,\n",
       " 'differ free': 1,\n",
       " 'free app': 1,\n",
       " 'scan sever': 1,\n",
       " 'sever differ': 1,\n",
       " 'differ set': 1,\n",
       " 'set app': 1,\n",
       " 'app refus': 1,\n",
       " 'refus scan': 1,\n",
       " 'pay membership': 1,\n",
       " 'membership use': 1,\n",
       " 'featur book': 1,\n",
       " 'book appoint': 1,\n",
       " 'appoint surgeon': 1,\n",
       " 'anyth tri': 1,\n",
       " 'anyth besid': 1,\n",
       " 'besid like': 1,\n",
       " 'like brow': 1,\n",
       " 'brow lift': 1,\n",
       " 'lift unless': 1,\n",
       " 'unless pay': 1,\n",
       " 'pay app': 1,\n",
       " 'crash soon': 1,\n",
       " 'soon scan': 1,\n",
       " 'free version': 1,\n",
       " 'version liter': 1,\n",
       " 'liter noth': 1,\n",
       " 'noth scan': 1,\n",
       " 'scan pretti': 1,\n",
       " 'pretti bad': 1,\n",
       " 'app worst': 1,\n",
       " 'worst get': 1,\n",
       " 'get info': 1,\n",
       " 'info total': 1,\n",
       " 'total unus': 1,\n",
       " 'unus keep': 1,\n",
       " 'keep crash': 1,\n",
       " 'even scan': 1,\n",
       " 'face properli': 1,\n",
       " 'fill entir': 1,\n",
       " 'entir sheet': 1,\n",
       " 'sheet thing': 1,\n",
       " 'thing want': 1,\n",
       " 'want alter': 1,\n",
       " 'alter edit': 1,\n",
       " 'edit nose': 1,\n",
       " 'nose poorli': 1,\n",
       " 'poorli lip': 1,\n",
       " 'lip eyebrow': 1,\n",
       " 'show u': 1,\n",
       " 'u lip': 1,\n",
       " 'lip lift': 1,\n",
       " 'lift app': 1,\n",
       " 'app store': 1,\n",
       " 'store yet': 1,\n",
       " 'yet unabl': 1,\n",
       " 'unabl download': 1,\n",
       " 'anyth bc': 1,\n",
       " 'bc crash': 1,\n",
       " 'crash use': 1,\n",
       " 'time download': 1,\n",
       " 'download worst': 1,\n",
       " 'worst edit': 1,\n",
       " 'edit app': 1,\n",
       " 'app ever': 1,\n",
       " 'ever garbag': 1}"
      ]
     },
     "execution_count": 22,
     "metadata": {},
     "output_type": "execute_result"
    }
   ],
   "source": [
    "vocabulary"
   ]
  },
  {
   "cell_type": "markdown",
   "metadata": {},
   "source": [
    "Most common mentioned phrases and terms "
   ]
  },
  {
   "cell_type": "code",
   "execution_count": 23,
   "metadata": {},
   "outputs": [],
   "source": [
    "from sklearn.base import BaseEstimator, TransformerMixin\n",
    "\n",
    "class TextProcessor2(BaseEstimator, TransformerMixin):\n",
    "    def __init__(self, lower_case=True, remove_punctuation=True, remove_numbers=True, lemmatizing=True, remove_stopwords=True, stemming=True):\n",
    "        self.lower_case = lower_case\n",
    "        self.remove_punctuation = remove_punctuation\n",
    "        self.remove_numbers = remove_numbers\n",
    "        self.lemmatizing = lemmatizing\n",
    "        self.remove_stopwords = remove_stopwords\n",
    "        self.stemming = stemming\n",
    "        \n",
    "    def fit(self,X ,y=None):\n",
    "        return self\n",
    "    \n",
    "    def transform(self, X, y=None):\n",
    "        X_processed = []\n",
    "        for text in X:\n",
    "            if self.lower_case:\n",
    "                text = text.lower()\n",
    "            if self.remove_numbers:\n",
    "                text = re.sub(r'\\d+(?:\\.\\d*)?(?:[eE][+-]?\\d+)?', ' ', text)\n",
    "            if self.remove_punctuation:\n",
    "                text = re.sub(r'\\W+', ' ', text, flags=re.M)\n",
    "            if self.remove_stopwords:\n",
    "                text = [word for word in text.split() if not word in stop_words]\n",
    "            word_counts = Counter(text)\n",
    "            if self.lemmatizing:\n",
    "                lem_words = Counter()\n",
    "                for word,count in word_counts.items():\n",
    "                    word_lemma = lemmatizer.lemmatize(word)\n",
    "                    lem_words[word_lemma]+=count\n",
    "                \n",
    "            \"\"\"f self.stemming:\n",
    "                stemmed_words=[]\n",
    "                for word in text:\n",
    "                    word_stem = stemmer.stem(word)\n",
    "                    stemmed_words.append(word_stem)\n",
    "                text = stemmed_words\n",
    "            bigram_words = []\n",
    "            for i in range(len(text)-1):\n",
    "                bigram_words.append(text[i]+\" \"+text[i+1])\n",
    "            word_counts = Counter(bigram_words)\n",
    "            #word_counts = Counter(text)\n",
    "            \"\"\"\n",
    "            \"\"\"if self.lemmatizing:\n",
    "                #lem_counter = Counter()\n",
    "                lem=[]\n",
    "                for word in text:\n",
    "                    word_lemma = lemmatizer.lemmatize(word)\n",
    "                    lem.append(word_lemma)\"\"\"\n",
    "            \n",
    "            X_processed.append(word_counts)\n",
    "        return np.array(X_processed)"
   ]
  },
  {
   "cell_type": "code",
   "execution_count": 24,
   "metadata": {},
   "outputs": [],
   "source": [
    "text_processor2 = TextProcessor2()\n",
    "word_counts = text_processor2.fit_transform(df['review'])"
   ]
  },
  {
   "cell_type": "code",
   "execution_count": 25,
   "metadata": {},
   "outputs": [],
   "source": [
    "vocabulary2 = Counter()\n",
    "for item in word_counts:\n",
    "    for word,count in item.items():\n",
    "        vocabulary2[word]+=count"
   ]
  },
  {
   "cell_type": "code",
   "execution_count": 26,
   "metadata": {},
   "outputs": [
    {
     "data": {
      "text/plain": [
       "[('app', 18),\n",
       " ('face', 9),\n",
       " ('scan', 9),\n",
       " ('use', 7),\n",
       " ('try', 7),\n",
       " ('pay', 6),\n",
       " ('even', 6),\n",
       " ('anything', 6),\n",
       " ('time', 6),\n",
       " ('features', 5),\n",
       " ('times', 4),\n",
       " ('get', 4),\n",
       " ('like', 4),\n",
       " ('error', 4),\n",
       " ('waste', 4),\n",
       " ('crashes', 4),\n",
       " ('would', 3),\n",
       " ('tried', 3),\n",
       " ('money', 3),\n",
       " ('nothing', 3),\n",
       " ('scanning', 3),\n",
       " ('keeps', 3),\n",
       " ('free', 3),\n",
       " ('really', 3),\n",
       " ('download', 3),\n",
       " ('something', 2),\n",
       " ('accurate', 2),\n",
       " ('great', 2),\n",
       " ('idea', 2),\n",
       " ('could', 2),\n",
       " ('quality', 2),\n",
       " ('good', 2),\n",
       " ('enough', 2),\n",
       " ('paid', 2),\n",
       " ('version', 2),\n",
       " ('worth', 2),\n",
       " ('month', 2),\n",
       " ('subscription', 2),\n",
       " ('back', 2),\n",
       " ('unless', 2),\n",
       " ('monetize', 2),\n",
       " ('cosmetic', 2),\n",
       " ('cool', 2),\n",
       " ('different', 2),\n",
       " ('literally', 2),\n",
       " ('things', 2),\n",
       " ('without', 2),\n",
       " ('take', 2),\n",
       " ('facial', 2),\n",
       " ('shows', 2),\n",
       " ('message', 2),\n",
       " ('every', 2),\n",
       " ('several', 2),\n",
       " ('excited', 2),\n",
       " ('totally', 2),\n",
       " ('nose', 2),\n",
       " ('lift', 2),\n",
       " ('worst', 2),\n",
       " ('modeling', 1),\n",
       " ('wraps', 1),\n",
       " ('around', 1),\n",
       " ('form', 1),\n",
       " ('changes', 1),\n",
       " ('topography', 1),\n",
       " ('similar', 1),\n",
       " ('built', 1),\n",
       " ('character', 1),\n",
       " ('video', 1),\n",
       " ('game', 1),\n",
       " ('remotely', 1),\n",
       " ('close', 1),\n",
       " ('depiction', 1),\n",
       " ('sounds', 1),\n",
       " ('practice', 1),\n",
       " ('turn', 1),\n",
       " ('promised', 1),\n",
       " ('maybe', 1),\n",
       " ('development', 1),\n",
       " ('tool', 1),\n",
       " ('future', 1),\n",
       " ('iphone', 1),\n",
       " ('ok', 1),\n",
       " ('multiple', 1),\n",
       " ('price', 1),\n",
       " ('wish', 1),\n",
       " ('downloading', 1),\n",
       " ('fully', 1),\n",
       " ('realizing', 1),\n",
       " ('purchases', 1),\n",
       " ('blindsided', 1),\n",
       " ('collect', 1),\n",
       " ('data', 1),\n",
       " ('meaningful', 1),\n",
       " ('purchase', 1),\n",
       " ('think', 1),\n",
       " ('vendors', 1),\n",
       " ('virtualizes', 1),\n",
       " ('smart', 1),\n",
       " ('doctor', 1),\n",
       " ('referrals', 1),\n",
       " ('oh', 1),\n",
       " ('wait', 1),\n",
       " ('industry', 1),\n",
       " ('everyone', 1),\n",
       " ('design', 1),\n",
       " ('unfortunately', 1),\n",
       " ('coming', 1),\n",
       " ('everything', 1),\n",
       " ('else', 1),\n",
       " ('ridiculous', 1),\n",
       " ('amount', 1),\n",
       " ('bother', 1),\n",
       " ('concept', 1),\n",
       " ('offering', 1),\n",
       " ('trial', 1),\n",
       " ('demo', 1),\n",
       " ('surgeries', 1),\n",
       " ('actually', 1),\n",
       " ('matter', 1),\n",
       " ('people', 1),\n",
       " ('kind', 1),\n",
       " ('misleading', 1),\n",
       " ('signing', 1),\n",
       " ('tell', 1),\n",
       " ('able', 1),\n",
       " ('picture', 1),\n",
       " ('using', 1),\n",
       " ('thus', 1),\n",
       " ('restructure', 1),\n",
       " ('portion', 1),\n",
       " ('procedure', 1),\n",
       " ('results', 1),\n",
       " ('never', 1),\n",
       " ('worked', 1),\n",
       " ('throws', 1),\n",
       " ('feature', 1),\n",
       " ('kept', 1),\n",
       " ('freezing', 1),\n",
       " ('keep', 1),\n",
       " ('opening', 1),\n",
       " ('ended', 1),\n",
       " ('deleting', 1),\n",
       " ('downloaded', 1),\n",
       " ('twice', 1),\n",
       " ('thinking', 1),\n",
       " ('option', 1),\n",
       " ('blog', 1),\n",
       " ('glossary', 1),\n",
       " ('procedures', 1),\n",
       " ('contact', 1),\n",
       " ('list', 1),\n",
       " ('preferred', 1),\n",
       " ('auregeons', 1),\n",
       " ('thats', 1),\n",
       " ('totry', 1),\n",
       " ('see', 1),\n",
       " ('seem', 1),\n",
       " ('working', 1),\n",
       " ('pointless', 1),\n",
       " ('saying', 1),\n",
       " ('move', 1),\n",
       " ('closer', 1),\n",
       " ('etc', 1),\n",
       " ('pic', 1),\n",
       " ('delete', 1),\n",
       " ('constantly', 1),\n",
       " ('disappointed', 1),\n",
       " ('edits', 1),\n",
       " ('pro', 1),\n",
       " ('bummer', 1),\n",
       " ('used', 1),\n",
       " ('bought', 1),\n",
       " ('morph', 1),\n",
       " ('differently', 1),\n",
       " ('apps', 1),\n",
       " ('settings', 1),\n",
       " ('refused', 1),\n",
       " ('membership', 1),\n",
       " ('book', 1),\n",
       " ('appointment', 1),\n",
       " ('surgeon', 1),\n",
       " ('besides', 1),\n",
       " ('brow', 1),\n",
       " ('soon', 1),\n",
       " ('pretty', 1),\n",
       " ('bad', 1),\n",
       " ('gets', 1),\n",
       " ('info', 1),\n",
       " ('unusable', 1),\n",
       " ('crashing', 1),\n",
       " ('properly', 1),\n",
       " ('fill', 1),\n",
       " ('entire', 1),\n",
       " ('sheet', 1),\n",
       " ('want', 1),\n",
       " ('alter', 1),\n",
       " ('edit', 1),\n",
       " ('poorly', 1),\n",
       " ('lips', 1),\n",
       " ('eyebrows', 1),\n",
       " ('u', 1),\n",
       " ('lip', 1),\n",
       " ('store', 1),\n",
       " ('yet', 1),\n",
       " ('unable', 1),\n",
       " ('bc', 1),\n",
       " ('editing', 1),\n",
       " ('ever', 1),\n",
       " ('garbage', 1)]"
      ]
     },
     "execution_count": 26,
     "metadata": {},
     "output_type": "execute_result"
    }
   ],
   "source": [
    "vocabulary2.most_common()"
   ]
  },
  {
   "cell_type": "code",
   "execution_count": 74,
   "metadata": {},
   "outputs": [],
   "source": [
    "X = df.copy()\n",
    "X['keyword'] = word_counts"
   ]
  },
  {
   "cell_type": "code",
   "execution_count": 75,
   "metadata": {},
   "outputs": [
    {
     "data": {
      "text/plain": [
       "4      {'pay': 1, 'use': 1, 'features': 2, 'modeling'...\n",
       "13     {'iphone': 1, 'scan': 1, 'quality': 2, 'ok': 1...\n",
       "23     {'nothing': 1, 'like': 1, 'downloading': 1, 'a...\n",
       "72     {'cool': 1, 'idea': 1, 'design': 1, 'unfortuna...\n",
       "75     {'literally': 1, 'try': 1, 'things': 1, 'free'...\n",
       "83     {'really': 1, 'cool': 1, 'concept': 1, 'withou...\n",
       "90     {'able': 1, 'scan': 1, 'face': 1, 'take': 1, '...\n",
       "99     {'use': 1, 'try': 1, 'feature': 1, 'app': 1, '...\n",
       "102    {'downloaded': 1, 'app': 1, 'twice': 1, 'think...\n",
       "105    {'really': 1, 'excited': 1, 'totry': 1, 'app':...\n",
       "108    {'pointless': 1, 'keeps': 1, 'saying': 1, 'mov...\n",
       "111    {'constantly': 1, 'crashes': 1, 'try': 1, 'sca...\n",
       "113    {'excited': 1, 'try': 1, 'really': 1, 'disappo...\n",
       "114    {'bought': 1, 'month': 1, 'morph': 1, 'nose': ...\n",
       "115    {'tried': 1, 'scanning': 1, 'several': 1, 'dif...\n",
       "116    {'pay': 1, 'membership': 1, 'use': 1, 'feature...\n",
       "119    {'anything': 2, 'try': 1, 'besides': 1, 'like'...\n",
       "121    {'app': 1, 'crashes': 1, 'soon': 1, 'scan': 1,...\n",
       "124    {'free': 1, 'version': 1, 'literally': 1, 'not...\n",
       "126    {'app': 1, 'worst': 1, 'gets': 1, 'info': 1, '...\n",
       "128                                 {'pay': 1, 'use': 1}\n",
       "130     {'even': 1, 'scan': 1, 'face': 1, 'properly': 1}\n",
       "131    {'fill': 1, 'entire': 1, 'sheet': 1, 'things':...\n",
       "133    {'shows': 1, 'u': 1, 'lip': 1, 'lift': 1, 'app...\n",
       "134               {'anything': 1, 'bc': 1, 'crashes': 1}\n",
       "137                   {'app': 1, 'crashes': 1, 'use': 1}\n",
       "138    {'waste': 1, 'time': 1, 'download': 1, 'worst'...\n",
       "139                            {'download': 1, 'app': 1}\n",
       "Name: keyword, dtype: object"
      ]
     },
     "execution_count": 75,
     "metadata": {},
     "output_type": "execute_result"
    }
   ],
   "source": [
    "X['keyword']"
   ]
  },
  {
   "cell_type": "code",
   "execution_count": 76,
   "metadata": {},
   "outputs": [],
   "source": [
    "issue_areas = ['scan', 'crashes',  'pay', 'features', 'subscription']"
   ]
  },
  {
   "cell_type": "code",
   "execution_count": 77,
   "metadata": {},
   "outputs": [],
   "source": [
    "issue_counts={}\n",
    "\n",
    "for issue in issue_areas:\n",
    "    count = 0\n",
    "    for x in X['keyword']:\n",
    "        if issue in x.keys():\n",
    "            count+=1\n",
    "    issue_counts[issue]=count"
   ]
  },
  {
   "cell_type": "markdown",
   "metadata": {},
   "source": [
    "## \n",
    "## A deeper analysis into reviews\n",
    "## "
   ]
  },
  {
   "cell_type": "code",
   "execution_count": 36,
   "metadata": {},
   "outputs": [],
   "source": [
    "import nltk.corpus\n",
    "from nltk.text import Text\n",
    "from nltk.tokenize import sent_tokenize, word_tokenize\n",
    "import docx2txt\n",
    "\n",
    "def get_phrases_containing_word(target_word, passage, left_margin = 10, right_margin = 10):\n",
    "    tokens = nltk.word_tokenize(passage)\n",
    "    text = nltk.Text(tokens) \n",
    "    ## Collect all the index or offset position of the target word\n",
    "    c = nltk.ConcordanceIndex(text.tokens, key = lambda s: s.lower())\n",
    " \n",
    "    ## Collect the range of the words that is within the target word by using text.tokens[start;end].\n",
    "    ## The map function is use so that when the offset position - the target range < 0, it will be default to zero\n",
    "    concordance_txt = ([text.tokens[list(map(lambda x: x-5 if (x-left_margin)>0 else 0,[offset]))[0]:offset+right_margin]\n",
    "                        for offset in c.offsets(target_word)])\n",
    "                         \n",
    "    ## join the sentences for each of the target phrase and return it\n",
    "    return [''.join([x+' ' for x in con_sub]) for con_sub in concordance_txt]"
   ]
  },
  {
   "cell_type": "code",
   "execution_count": 37,
   "metadata": {},
   "outputs": [],
   "source": [
    "def get_phrases(word):\n",
    "    doc = ' '.join(df['review'])\n",
    "    results = get_phrases_containing_word(word, doc)\n",
    "    for result in results:\n",
    "        print(result)"
   ]
  },
  {
   "cell_type": "code",
   "execution_count": 39,
   "metadata": {
    "collapsed": true
   },
   "outputs": [
    {
     "name": "stdout",
     "output_type": "stream",
     "text": [
      ". Nothing like downloading an app fully realizing it has in-app purchases but then being \n",
      "d think the vendors this app virtualizes would be smart enough to monetize from the \n",
      "take a picture using this app . Thus the facial restructure portion of the app \n",
      "facial restructure portion of the app that shows cosmetic procedure results has never worked . \n",
      "try on feature . The app kept freezing . I had to keep opening it \n",
      "I ’ ve downloaded this app twice thinking it was my error . There isn \n",
      "was really excited toTry this app and see the facial scanning features , but it \n",
      "’ t even use the app because of this Was excited to try this but \n",
      "several different settings and the app refused to scan my face . You have to \n",
      "unless you pay for the app This app crashes as soon as you scan your \n",
      "pay for the app This app crashes as soon as you scan your face . \n",
      "3scan is pretty bad This app is the worst gets all your info then totally \n",
      "a lip lift in the App Store yet I ’ m unable once I download \n",
      "unable once I download the app Can ’ t do anything bc it just crashes \n",
      "bc it just crashes The app just crashes when I use it . Waste of \n",
      "this is THE WORST editing app ever garbage Don ’ t download this app \n",
      "Don ’ t download this app \n"
     ]
    }
   ],
   "source": [
    "get_phrases('app')"
   ]
  },
  {
   "cell_type": "code",
   "execution_count": 41,
   "metadata": {},
   "outputs": [
    {
     "name": "stdout",
     "output_type": "stream",
     "text": [
      "You have to pay to use most of the of the features . \n",
      "everything else you have to pay a ridiculous amount of money . Don ’ t \n",
      ". I won ’ t pay for something I can ’ t tell is any \n",
      "face . You have to pay for a membership to use any of the features \n",
      "a brow lift unless you pay for the app This app crashes as soon as \n",
      "Keeps crashing You have to pay to use it Won ’ t even scan my \n"
     ]
    }
   ],
   "source": [
    "get_phrases('pay')"
   ]
  },
  {
   "cell_type": "code",
   "execution_count": 43,
   "metadata": {},
   "outputs": [
    {
     "name": "stdout",
     "output_type": "stream",
     "text": [
      "wish I could get my money back . Nothing like downloading an app fully realizing \n",
      "pay a ridiculous amount of money . Don ’ t bother . Really cool concept \n",
      "it . Not worth the money and is not accurate nor does anything differently then \n"
     ]
    }
   ],
   "source": [
    "get_phrases('money')"
   ]
  },
  {
   "cell_type": "code",
   "execution_count": 44,
   "metadata": {},
   "outputs": [
    {
     "name": "stdout",
     "output_type": "stream",
     "text": [
      "game . I had to scan my face 4 times to get something even remotely \n",
      "an iPhone 12 . The scan quality was just ok . I tried multiple times \n",
      "because it won ’ t scan my face . Tried scanning like 5 different times \n",
      "ve not been able to scan my face in nor take a picture using this \n",
      "crashes when I try to scan my face . Can ’ t even use the \n",
      "and the app refused to scan my face . You have to pay for a \n",
      "crashes as soon as you scan your face . Don ’ t waste your time \n",
      "it Won ’ t even scan my face properly You fill out this entire sheet \n"
     ]
    }
   ],
   "source": [
    "get_phrases('scan')"
   ]
  },
  {
   "cell_type": "code",
   "execution_count": 47,
   "metadata": {},
   "outputs": [
    {
     "name": "stdout",
     "output_type": "stream",
     "text": [
      ". The modeling wraps your face around a form , which changes the topography of \n",
      "I had to scan my face 4 times to get something even remotely close . \n",
      "won ’ t scan my face . Tried scanning like 5 different times but keeps \n",
      "been able to scan my face in nor take a picture using this app . \n",
      "take a pic of my face . Waste of time . Delete . Constantly crashes \n",
      "I try to scan my face . Can ’ t even use the app because \n",
      "app refused to scan my face . You have to pay for a membership to \n",
      "soon as you scan your face . Don ’ t waste your time . The \n",
      "’ t even scan my face properly You fill out this entire sheet of things \n"
     ]
    }
   ],
   "source": [
    "get_phrases('face')"
   ]
  },
  {
   "cell_type": "code",
   "execution_count": 48,
   "metadata": {},
   "outputs": [
    {
     "name": "stdout",
     "output_type": "stream",
     "text": [
      "most of the of the features . The modeling wraps your face around a form \n",
      "changes the topography of your features . It ’ s similar to a built your \n",
      "there weren ’ t enough features even with the paid version to be worth the \n",
      "and see the facial scanning features , but it doesn ’ t seem to be \n",
      "to use any of the features or book an appointment with a surgeon . You \n"
     ]
    }
   ],
   "source": [
    "get_phrases('features')"
   ]
  },
  {
   "cell_type": "code",
   "execution_count": 49,
   "metadata": {},
   "outputs": [
    {
     "name": "stdout",
     "output_type": "stream",
     "text": [
      "throws an error message EVERY time ! ! ! Couldn ’ t use the try \n",
      "Don ’ t waste your time . I was really excited toTry this app and \n",
      "to be working , every time I try I get an error message This is \n",
      "my face . Waste of time . Delete . Constantly crashes when I try to \n",
      "Don ’ t waste your time . The free version literally does nothing and the \n",
      "use it . Waste of time don ’ t download this is THE WORST editing \n"
     ]
    }
   ],
   "source": [
    "get_phrases('time')"
   ]
  },
  {
   "cell_type": "code",
   "execution_count": 50,
   "metadata": {},
   "outputs": [
    {
     "name": "stdout",
     "output_type": "stream",
     "text": [
      "time . Delete . Constantly crashes when I try to scan my face . Can \n",
      "for the app This app crashes as soon as you scan your face . Don \n",
      "do anything bc it just crashes The app just crashes when I use it . \n",
      "just crashes The app just crashes when I use it . Waste of time don \n"
     ]
    }
   ],
   "source": [
    "get_phrases('crashes')"
   ]
  },
  {
   "cell_type": "code",
   "execution_count": 54,
   "metadata": {},
   "outputs": [
    {
     "name": "stdout",
     "output_type": "stream",
     "text": [
      "I paid for a 1-month subscription and wish I could get my money back . \n",
      "ANY edits without a PRO subscription . Bummer I would have totally used it too \n"
     ]
    }
   ],
   "source": [
    "get_phrases('subscription')"
   ]
  },
  {
   "cell_type": "code",
   "execution_count": 55,
   "metadata": {},
   "outputs": [
    {
     "name": "stdout",
     "output_type": "stream",
     "text": [
      "keeps coming up with an error You can literally only try on 2 things for \n",
      "worked . It throws an error message EVERY time ! ! ! Couldn ’ t \n",
      "twice thinking it was my error . There isn ’ t an option to try \n",
      "I try I get an error message This is pointless . It keeps saying to \n"
     ]
    }
   ],
   "source": [
    "get_phrases('error')"
   ]
  },
  {
   "cell_type": "code",
   "execution_count": 56,
   "metadata": {},
   "outputs": [
    {
     "name": "stdout",
     "output_type": "stream",
     "text": [
      "’ m unable once I download the app Can ’ t do anything bc it \n",
      "of time don ’ t download this is THE WORST editing app ever garbage Don \n",
      "ever garbage Don ’ t download this app \n"
     ]
    }
   ],
   "source": [
    "get_phrases('download')"
   ]
  },
  {
   "cell_type": "code",
   "execution_count": 57,
   "metadata": {},
   "outputs": [
    {
     "name": "stdout",
     "output_type": "stream",
     "text": [
      "iPhone 12 . The scan quality was just ok . I tried multiple times but \n",
      "wasn ’ t very good quality and there weren ’ t enough features even with \n"
     ]
    }
   ],
   "source": [
    "get_phrases('quality')"
   ]
  },
  {
   "cell_type": "markdown",
   "metadata": {},
   "source": [
    "### The following were identified as problems in 3 and lower star ratings\n",
    "\n",
    "- facial restructure portion of the app that shows cosmetic procedure results doesnt work\n",
    "- The app keeps freezing\n",
    "- several different settings that dont work\n",
    "- most of the features are paid\n",
    "- payment for a membership to use any of the features \n"
   ]
  },
  {
   "cell_type": "code",
   "execution_count": 70,
   "metadata": {},
   "outputs": [
    {
     "data": {
      "image/png": "[encoded data removed]",
      "text/plain": [
       "<Figure size 1440x1080 with 1 Axes>"
      ]
     },
     "metadata": {
      "needs_background": "light"
     },
     "output_type": "display_data"
    }
   ],
   "source": [
    "plt.figure(figsize=(20,15))\n",
    "plt.bar([0,1,2], height=df['Issues'].value_counts())\n",
    "plt.xlabel('Issues')\n",
    "plt.xticks(ticks=[0,1,2], labels=issues)\n",
    "plt.show()"
   ]
  },
  {
   "cell_type": "markdown",
   "metadata": {},
   "source": [
    "##### Highest no of issues were observed in terms of app scanner issues(approx 22), app freezing and crashing and lastly features that need to be paid for\n",
    "##### "
   ]
  },
  {
   "cell_type": "code",
   "execution_count": 71,
   "metadata": {},
   "outputs": [
    {
     "name": "stderr",
     "output_type": "stream",
     "text": [
      "C:\\Users\\kulsum kamal\\anaconda3\\lib\\site-packages\\seaborn\\_decorators.py:36: FutureWarning: Pass the following variables as keyword args: x, y. From version 0.12, the only valid positional argument will be `data`, and passing other arguments without an explicit keyword will result in an error or misinterpretation.\n",
      "  warnings.warn(\n"
     ]
    },
    {
     "data": {
      "image/png": "[encoded data removed]",
      "text/plain": [
       "<Figure size 1440x1080 with 1 Axes>"
      ]
     },
     "metadata": {
      "needs_background": "light"
     },
     "output_type": "display_data"
    }
   ],
   "source": [
    "plt.figure(figsize=(20,15))\n",
    "sns.barplot(list(vocabulary.keys())[:40],list(vocabulary.values())[:40])\n",
    "plt.xticks(rotation=75)\n",
    "plt.show()"
   ]
  },
  {
   "cell_type": "code",
   "execution_count": 78,
   "metadata": {},
   "outputs": [
    {
     "name": "stderr",
     "output_type": "stream",
     "text": [
      "C:\\Users\\kulsum kamal\\anaconda3\\lib\\site-packages\\seaborn\\_decorators.py:36: FutureWarning: Pass the following variables as keyword args: x, y. From version 0.12, the only valid positional argument will be `data`, and passing other arguments without an explicit keyword will result in an error or misinterpretation.\n",
      "  warnings.warn(\n"
     ]
    },
    {
     "data": {
      "image/png": "[encoded data removed]",
      "text/plain": [
       "<Figure size 1440x1080 with 1 Axes>"
      ]
     },
     "metadata": {
      "needs_background": "light"
     },
     "output_type": "display_data"
    }
   ],
   "source": [
    "plt.figure(figsize=(20,15))\n",
    "sns.barplot(list(issue_counts.keys()), list(issue_counts.values()))\n",
    "plt.title(\"Number of reviews on related issues\")\n",
    "plt.xlabel(\"Issues encountered\")\n",
    "plt.ylabel(\"No of reviews\")\n",
    "plt.show()"
   ]
  },
  {
   "cell_type": "code",
   "execution_count": null,
   "metadata": {},
   "outputs": [],
   "source": []
  }
 ],
 "metadata": {
  "kernelspec": {
   "display_name": "Python 3",
   "language": "python",
   "name": "python3"
  },
  "language_info": {
   "codemirror_mode": {
    "name": "ipython",
    "version": 3
   },
   "file_extension": ".py",
   "mimetype": "text/x-python",
   "name": "python",
   "nbconvert_exporter": "python",
   "pygments_lexer": "ipython3",
   "version": "3.8.5"
  }
 },
 "nbformat": 4,
 "nbformat_minor": 4
}
